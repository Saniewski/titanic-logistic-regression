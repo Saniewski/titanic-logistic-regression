{
 "cells": [
  {
   "cell_type": "markdown",
   "metadata": {},
   "source": [
    "# Logistic Regression Models"
   ]
  },
  {
   "cell_type": "code",
   "execution_count": 1,
   "metadata": {},
   "outputs": [],
   "source": [
    "import pandas as pd\n",
    "from sklearn.model_selection import train_test_split\n",
    "from sklearn.linear_model import LogisticRegression\n",
    "from sklearn import metrics"
   ]
  },
  {
   "cell_type": "code",
   "execution_count": 28,
   "metadata": {},
   "outputs": [],
   "source": [
    "df_not_imputed = pd.read_csv('./data/train_not_imputed.csv')\n",
    "df_median_imputed = pd.read_csv('./data/train_median_imputed.csv')\n",
    "df_pclass_imputed = pd.read_csv('./data/train_pclass_imputed.csv')"
   ]
  },
  {
   "cell_type": "markdown",
   "metadata": {},
   "source": [
    "Set the index to `PassengerId`."
   ]
  },
  {
   "cell_type": "code",
   "execution_count": 29,
   "metadata": {},
   "outputs": [],
   "source": [
    "df_not_imputed.set_index('PassengerId', drop=True, inplace=True)\n",
    "df_median_imputed.set_index('PassengerId', drop=True, inplace=True)\n",
    "df_pclass_imputed.set_index('PassengerId', drop=True, inplace=True)"
   ]
  },
  {
   "cell_type": "markdown",
   "metadata": {},
   "source": [
    "Separate each training dataset into `X` and `y`."
   ]
  },
  {
   "cell_type": "code",
   "execution_count": 30,
   "metadata": {},
   "outputs": [],
   "source": [
    "X_ni = df_not_imputed.drop('Survived', axis=1)\n",
    "y_ni = df_not_imputed['Survived']\n",
    "X_mi = df_median_imputed.drop('Survived', axis=1)\n",
    "y_mi = df_median_imputed['Survived']\n",
    "X_pi = df_pclass_imputed.drop('Survived', axis=1)\n",
    "y_pi = df_pclass_imputed['Survived']"
   ]
  },
  {
   "cell_type": "markdown",
   "metadata": {},
   "source": [
    "Perform a train-test split on each dataset."
   ]
  },
  {
   "cell_type": "code",
   "execution_count": 31,
   "metadata": {},
   "outputs": [],
   "source": [
    "X_ni_train, X_ni_valid, y_ni_train, y_ni_valid = train_test_split(X_ni, y_ni, test_size=.3, random_state=8801)\n",
    "X_mi_train, X_mi_valid, y_mi_train, y_mi_valid = train_test_split(X_mi, y_mi, test_size=.3, random_state=8801)\n",
    "X_pi_train, X_pi_valid, y_pi_train, y_pi_valid = train_test_split(X_pi, y_pi, test_size=.3, random_state=8801)"
   ]
  },
  {
   "cell_type": "markdown",
   "metadata": {},
   "source": [
    "Fit logistic regression models on each dataset."
   ]
  },
  {
   "cell_type": "code",
   "execution_count": 32,
   "metadata": {},
   "outputs": [],
   "source": [
    "ni_logreg = LogisticRegression()\n",
    "mi_logreg = LogisticRegression()\n",
    "pi_logreg = LogisticRegression()"
   ]
  },
  {
   "cell_type": "code",
   "execution_count": 33,
   "metadata": {},
   "outputs": [
    {
     "name": "stderr",
     "output_type": "stream",
     "text": [
      "/home/paul/workspace/titanic-logistic-regression/venv/lib/python3.9/site-packages/sklearn/linear_model/_logistic.py:814: ConvergenceWarning: lbfgs failed to converge (status=1):\n",
      "STOP: TOTAL NO. of ITERATIONS REACHED LIMIT.\n",
      "\n",
      "Increase the number of iterations (max_iter) or scale the data as shown in:\n",
      "    https://scikit-learn.org/stable/modules/preprocessing.html\n",
      "Please also refer to the documentation for alternative solver options:\n",
      "    https://scikit-learn.org/stable/modules/linear_model.html#logistic-regression\n",
      "  n_iter_i = _check_optimize_result(\n",
      "/home/paul/workspace/titanic-logistic-regression/venv/lib/python3.9/site-packages/sklearn/linear_model/_logistic.py:814: ConvergenceWarning: lbfgs failed to converge (status=1):\n",
      "STOP: TOTAL NO. of ITERATIONS REACHED LIMIT.\n",
      "\n",
      "Increase the number of iterations (max_iter) or scale the data as shown in:\n",
      "    https://scikit-learn.org/stable/modules/preprocessing.html\n",
      "Please also refer to the documentation for alternative solver options:\n",
      "    https://scikit-learn.org/stable/modules/linear_model.html#logistic-regression\n",
      "  n_iter_i = _check_optimize_result(\n",
      "/home/paul/workspace/titanic-logistic-regression/venv/lib/python3.9/site-packages/sklearn/linear_model/_logistic.py:814: ConvergenceWarning: lbfgs failed to converge (status=1):\n",
      "STOP: TOTAL NO. of ITERATIONS REACHED LIMIT.\n",
      "\n",
      "Increase the number of iterations (max_iter) or scale the data as shown in:\n",
      "    https://scikit-learn.org/stable/modules/preprocessing.html\n",
      "Please also refer to the documentation for alternative solver options:\n",
      "    https://scikit-learn.org/stable/modules/linear_model.html#logistic-regression\n",
      "  n_iter_i = _check_optimize_result(\n"
     ]
    },
    {
     "data": {
      "text/plain": [
       "LogisticRegression()"
      ]
     },
     "execution_count": 33,
     "metadata": {},
     "output_type": "execute_result"
    }
   ],
   "source": [
    "ni_logreg.fit(X_ni_train, y_ni_train)\n",
    "mi_logreg.fit(X_mi_train, y_mi_train)\n",
    "pi_logreg.fit(X_pi_train, y_pi_train)"
   ]
  },
  {
   "cell_type": "markdown",
   "metadata": {},
   "source": [
    "Make predictions for every model."
   ]
  },
  {
   "cell_type": "code",
   "execution_count": 34,
   "metadata": {},
   "outputs": [],
   "source": [
    "ni_pred = ni_logreg.predict(X_ni_valid)\n",
    "mi_pred = mi_logreg.predict(X_mi_valid)\n",
    "pi_pred = pi_logreg.predict(X_pi_valid)"
   ]
  },
  {
   "cell_type": "markdown",
   "metadata": {},
   "source": [
    "Print the performance report of every model for comparison."
   ]
  },
  {
   "cell_type": "code",
   "execution_count": 36,
   "metadata": {},
   "outputs": [
    {
     "name": "stdout",
     "output_type": "stream",
     "text": [
      "Performance of the logistic regression trained on a not imputed dataset:\n",
      "              precision    recall  f1-score   support\n",
      "\n",
      "           0       0.82      0.87      0.84       127\n",
      "           1       0.79      0.72      0.75        87\n",
      "\n",
      "    accuracy                           0.81       214\n",
      "   macro avg       0.80      0.80      0.80       214\n",
      "weighted avg       0.81      0.81      0.81       214\n",
      "\n"
     ]
    }
   ],
   "source": [
    "print('Performance of the logistic regression trained on a not imputed dataset:')\n",
    "print(metrics.classification_report(y_ni_valid, ni_pred))"
   ]
  },
  {
   "cell_type": "code",
   "execution_count": 37,
   "metadata": {},
   "outputs": [
    {
     "name": "stdout",
     "output_type": "stream",
     "text": [
      "Performance of the logistic regression trained on a median-imputed dataset:\n",
      "              precision    recall  f1-score   support\n",
      "\n",
      "         0.0       0.81      0.93      0.87       150\n",
      "         1.0       0.89      0.73      0.80       117\n",
      "\n",
      "    accuracy                           0.84       267\n",
      "   macro avg       0.85      0.83      0.83       267\n",
      "weighted avg       0.84      0.84      0.84       267\n",
      "\n"
     ]
    }
   ],
   "source": [
    "print('Performance of the logistic regression trained on a median-imputed dataset:')\n",
    "print(metrics.classification_report(y_mi_valid, mi_pred))"
   ]
  },
  {
   "cell_type": "code",
   "execution_count": 38,
   "metadata": {},
   "outputs": [
    {
     "name": "stdout",
     "output_type": "stream",
     "text": [
      "Performance of the logistic regression trained on a Pclass-imputed dataset:\n",
      "              precision    recall  f1-score   support\n",
      "\n",
      "           0       0.81      0.93      0.87       150\n",
      "           1       0.89      0.73      0.80       117\n",
      "\n",
      "    accuracy                           0.84       267\n",
      "   macro avg       0.85      0.83      0.83       267\n",
      "weighted avg       0.84      0.84      0.84       267\n",
      "\n"
     ]
    }
   ],
   "source": [
    "print('Performance of the logistic regression trained on a Pclass-imputed dataset:')\n",
    "print(metrics.classification_report(y_pi_valid, pi_pred))"
   ]
  },
  {
   "cell_type": "markdown",
   "metadata": {},
   "source": [
    "Looks like the model trained on a smaller, not imputed dataset performed worse than models trained on imputed datasets. The imputation method does not make any significant impact on the result.\n",
    "\n",
    "Let's try to fit a model on a Pclass-imputed dataset, but with `Title` columns dropped."
   ]
  },
  {
   "cell_type": "code",
   "execution_count": 41,
   "metadata": {},
   "outputs": [],
   "source": [
    "df_pclass_imputed_no_titles = df_pclass_imputed.drop(columns=df_pclass_imputed.columns[11:])\n",
    "X_pi_no_title = df_pclass_imputed_no_titles.drop('Survived', axis=1)\n",
    "y_pi_no_title = df_pclass_imputed_no_titles['Survived']"
   ]
  },
  {
   "cell_type": "code",
   "execution_count": 42,
   "metadata": {},
   "outputs": [],
   "source": [
    "X_pint_train, X_pint_valid, y_pint_train, y_pint_valid = train_test_split(X_pi_no_title, y_pi_no_title, test_size=.3, random_state=8801)"
   ]
  },
  {
   "cell_type": "code",
   "execution_count": 44,
   "metadata": {},
   "outputs": [
    {
     "name": "stderr",
     "output_type": "stream",
     "text": [
      "/home/paul/workspace/titanic-logistic-regression/venv/lib/python3.9/site-packages/sklearn/linear_model/_logistic.py:814: ConvergenceWarning: lbfgs failed to converge (status=1):\n",
      "STOP: TOTAL NO. of ITERATIONS REACHED LIMIT.\n",
      "\n",
      "Increase the number of iterations (max_iter) or scale the data as shown in:\n",
      "    https://scikit-learn.org/stable/modules/preprocessing.html\n",
      "Please also refer to the documentation for alternative solver options:\n",
      "    https://scikit-learn.org/stable/modules/linear_model.html#logistic-regression\n",
      "  n_iter_i = _check_optimize_result(\n"
     ]
    }
   ],
   "source": [
    "pint_logreg = LogisticRegression()\n",
    "pint_logreg.fit(X_pint_train, y_pint_train)\n",
    "pint_pred = pint_logreg.predict(X_pint_valid)"
   ]
  },
  {
   "cell_type": "code",
   "execution_count": 45,
   "metadata": {},
   "outputs": [
    {
     "name": "stdout",
     "output_type": "stream",
     "text": [
      "Performance of the logistic regression trained on a Pclass-imputed dataset (without \"Title\" columns):\n",
      "              precision    recall  f1-score   support\n",
      "\n",
      "           0       0.78      0.92      0.84       150\n",
      "           1       0.87      0.67      0.75       117\n",
      "\n",
      "    accuracy                           0.81       267\n",
      "   macro avg       0.82      0.79      0.80       267\n",
      "weighted avg       0.82      0.81      0.80       267\n",
      "\n"
     ]
    }
   ],
   "source": [
    "print('Performance of the logistic regression trained on a Pclass-imputed dataset (without \"Title\" columns):')\n",
    "print(metrics.classification_report(y_pint_valid, pint_pred))"
   ]
  },
  {
   "cell_type": "markdown",
   "metadata": {},
   "source": [
    "The above report proves that the passenger's `Title`, to some extent, helps to predict whether the person survived or not."
   ]
  }
 ],
 "metadata": {
  "interpreter": {
   "hash": "91109ae19c9dfa5bba8eaf4054110bddf3e3aea1d3b6591037ec4365f3270686"
  },
  "kernelspec": {
   "display_name": "Python 3.9.7 ('venv': venv)",
   "language": "python",
   "name": "python3"
  },
  "language_info": {
   "codemirror_mode": {
    "name": "ipython",
    "version": 3
   },
   "file_extension": ".py",
   "mimetype": "text/x-python",
   "name": "python",
   "nbconvert_exporter": "python",
   "pygments_lexer": "ipython3",
   "version": "3.9.7"
  },
  "orig_nbformat": 4
 },
 "nbformat": 4,
 "nbformat_minor": 2
}
